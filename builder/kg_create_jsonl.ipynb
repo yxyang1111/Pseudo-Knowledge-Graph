{
 "cells": [
  {
   "cell_type": "code",
   "execution_count": 8,
   "metadata": {},
   "outputs": [],
   "source": [
    "import jsonlines\n",
    "import glob\n",
    "\n",
    "from py2neo import Graph, Node, Relationship\n",
    "from py2neo import NodeMatcher, RelationshipMatcher\n",
    "import spacy\n",
    "from tqdm import tqdm\n",
    "import re\n",
    "\n",
    "from sentence_transformers import SentenceTransformer\n",
    "model_path=\"/home/yuxin.yang/model/moka-ai/m3e-base\"\n",
    "model = SentenceTransformer(model_path)\n",
    "\n",
    "\n",
    "graph=Graph('http://localhost:7474',user='neo4j',password='cecaceca512',name='neo4j')\n",
    "graph.delete_all()\n",
    "node_matcher = NodeMatcher(graph)\n",
    "\n",
    "data_dir = '/home/yuxin.yang/kg/raw_data/科研数据/**/*.jsonl'\n",
    "for file_path in glob.glob(data_dir, recursive=True):\n",
    "    with jsonlines.open(file_path, 'r') as reader:\n",
    "        #print(file_path)\n",
    "        for json_obj in reader:\n",
    "            # 处理或打印每个JSON对象\n",
    "            #print(json_obj['metadata'])\n",
    "            existing_node = node_matcher.match(\"CONTENT\",text=json_obj['content']).first()\n",
    "            if not existing_node:\n",
    "                vec = model.encode(json_obj['content'], normalize_embeddings=False).tolist()\n",
    "                content_node=Node(\"CONTENT\", text=json_obj['content'], embedding = vec)\n",
    "                graph.create(content_node)\n",
    "                for key, value in json_obj['metadata'].items():\n",
    "                    #print(f\"Key: {key}, Value: {value}\")\n",
    "                    existing_node = node_matcher.match(key,text=value).first()\n",
    "                    if not existing_node:\n",
    "                        vec = model.encode(value, normalize_embeddings=False).tolist()\n",
    "                        ent_node=Node(key,text=value,embedding = vec)\n",
    "\n",
    "\n",
    "                        graph.create(ent_node)\n",
    "                        relation=Relationship(content_node,\"include\",ent_node)\n",
    "                        graph.create(relation)\n",
    "                    else:\n",
    "                        relation=Relationship(content_node,\"include\",existing_node)\n",
    "                        graph.create(relation)\n",
    "\n"
   ]
  }
 ],
 "metadata": {
  "kernelspec": {
   "display_name": "Askpku",
   "language": "python",
   "name": "python3"
  },
  "language_info": {
   "codemirror_mode": {
    "name": "ipython",
    "version": 3
   },
   "file_extension": ".py",
   "mimetype": "text/x-python",
   "name": "python",
   "nbconvert_exporter": "python",
   "pygments_lexer": "ipython3",
   "version": "3.10.13"
  }
 },
 "nbformat": 4,
 "nbformat_minor": 2
}
